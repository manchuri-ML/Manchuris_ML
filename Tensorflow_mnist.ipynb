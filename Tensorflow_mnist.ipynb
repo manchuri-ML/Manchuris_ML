{
  "nbformat": 4,
  "nbformat_minor": 0,
  "metadata": {
    "colab": {
      "provenance": [],
      "authorship_tag": "ABX9TyM1PMRQvvrJyUFlypnOzHol",
      "include_colab_link": true
    },
    "kernelspec": {
      "name": "python3",
      "display_name": "Python 3"
    },
    "language_info": {
      "name": "python"
    }
  },
  "cells": [
    {
      "cell_type": "markdown",
      "metadata": {
        "id": "view-in-github",
        "colab_type": "text"
      },
      "source": [
        "<a href=\"https://colab.research.google.com/github/manchuri-ML/Manchuris_ML/blob/TensorFlow_Playground/Tensorflow_mnist.ipynb\" target=\"_parent\"><img src=\"https://colab.research.google.com/assets/colab-badge.svg\" alt=\"Open In Colab\"/></a>"
      ]
    },
    {
      "cell_type": "code",
      "execution_count": 10,
      "metadata": {
        "colab": {
          "base_uri": "https://localhost:8080/"
        },
        "id": "2nCyB7gepAR2",
        "outputId": "59e1e68c-21ea-4407-8415-73b82b7df416"
      },
      "outputs": [
        {
          "output_type": "stream",
          "name": "stdout",
          "text": [
            "2.18.0\n",
            "<module 'keras.api.datasets.mnist' from '/usr/local/lib/python3.11/dist-packages/keras/api/datasets/mnist/__init__.py'>\n"
          ]
        }
      ],
      "source": [
        "import tensorflow as tf\n",
        "print(tf.__version__)\n",
        "\n",
        "dataset = tf.keras.datasets.mnist\n",
        "print(dataset)\n",
        "(x_train,y_train),(x_test,y_test) = dataset.load_data()\n",
        "x_train, x_test = x_train/255, x_test/255"
      ]
    },
    {
      "cell_type": "code",
      "source": [
        "print(x_train.shape)\n",
        "print(y_train.shape)\n",
        "print(y_test.shape)\n",
        "model = tf.keras.Sequential([\n",
        "    tf.keras.Input(shape=(28,28)),\n",
        "    tf.keras.layers.Flatten(),\n",
        "    tf.keras.layers.Dense(128,activation='relu'),\n",
        "    tf.keras.layers.Dropout(0.2),\n",
        "    tf.keras.layers.Dense(10)\n",
        "]\n",
        ")\n",
        "\n",
        "print(x_train[:1].shape) # Batch like (1,28,28)\n",
        "predictions = model(x_train[:1]).numpy() # use this to get as numpy array\n",
        "print(tf.keras.activations.softmax(predictions))\n",
        "loss_fn = tf.keras.losses.SparseCategoricalCrossentropy(from_logits=True)\n",
        "print(output)\n",
        "print(loss_fn(y_train[:1],predictions).numpy())\n",
        "model.compile(optimizer='adam',loss=loss_fn,metrics=['accuracy'])\n",
        "model.fit(x_train,y_train,epochs=5)\n",
        "model.evaluate(x_test,y_test,verbose=2)"
      ],
      "metadata": {
        "colab": {
          "base_uri": "https://localhost:8080/",
          "height": 540
        },
        "id": "gtC5mAfAqbFV",
        "outputId": "ed67fa18-995c-43b3-b859-342b0a4f9a27"
      },
      "execution_count": 32,
      "outputs": [
        {
          "output_type": "stream",
          "name": "stdout",
          "text": [
            "(60000, 28, 28)\n",
            "(60000,)\n",
            "(10000,)\n",
            "(1, 28, 28)\n",
            "tf.Tensor(\n",
            "[[0.104465   0.07291833 0.07744273 0.04416091 0.33228952 0.07136901\n",
            "  0.05104733 0.11959669 0.08655214 0.04015836]], shape=(1, 10), dtype=float32)\n",
            "<LossFunctionWrapper(<function sparse_categorical_crossentropy at 0x7d396ff53ce0>, kwargs={'from_logits': True, 'ignore_class': None})>\n",
            "2.6398916\n",
            "Epoch 1/5\n",
            "\u001b[1m1875/1875\u001b[0m \u001b[32m━━━━━━━━━━━━━━━━━━━━\u001b[0m\u001b[37m\u001b[0m \u001b[1m9s\u001b[0m 4ms/step - accuracy: 0.8594 - loss: 0.4793\n",
            "Epoch 2/5\n",
            "\u001b[1m1875/1875\u001b[0m \u001b[32m━━━━━━━━━━━━━━━━━━━━\u001b[0m\u001b[37m\u001b[0m \u001b[1m10s\u001b[0m 4ms/step - accuracy: 0.9559 - loss: 0.1481\n",
            "Epoch 3/5\n",
            "\u001b[1m1875/1875\u001b[0m \u001b[32m━━━━━━━━━━━━━━━━━━━━\u001b[0m\u001b[37m\u001b[0m \u001b[1m9s\u001b[0m 5ms/step - accuracy: 0.9664 - loss: 0.1076\n",
            "Epoch 4/5\n",
            "\u001b[1m1875/1875\u001b[0m \u001b[32m━━━━━━━━━━━━━━━━━━━━\u001b[0m\u001b[37m\u001b[0m \u001b[1m11s\u001b[0m 5ms/step - accuracy: 0.9751 - loss: 0.0826\n",
            "Epoch 5/5\n",
            "\u001b[1m1875/1875\u001b[0m \u001b[32m━━━━━━━━━━━━━━━━━━━━\u001b[0m\u001b[37m\u001b[0m \u001b[1m7s\u001b[0m 4ms/step - accuracy: 0.9780 - loss: 0.0688\n",
            "313/313 - 1s - 2ms/step - accuracy: 0.9776 - loss: 0.0705\n"
          ]
        },
        {
          "output_type": "error",
          "ename": "TypeError",
          "evalue": "softmax() missing 1 required positional argument: 'x'",
          "traceback": [
            "\u001b[0;31m---------------------------------------------------------------------------\u001b[0m",
            "\u001b[0;31mTypeError\u001b[0m                                 Traceback (most recent call last)",
            "\u001b[0;32m<ipython-input-32-79653ce61650>\u001b[0m in \u001b[0;36m<cell line: 0>\u001b[0;34m()\u001b[0m\n\u001b[1;32m     20\u001b[0m \u001b[0mmodel\u001b[0m\u001b[0;34m.\u001b[0m\u001b[0mfit\u001b[0m\u001b[0;34m(\u001b[0m\u001b[0mx_train\u001b[0m\u001b[0;34m,\u001b[0m\u001b[0my_train\u001b[0m\u001b[0;34m,\u001b[0m\u001b[0mepochs\u001b[0m\u001b[0;34m=\u001b[0m\u001b[0;36m5\u001b[0m\u001b[0;34m)\u001b[0m\u001b[0;34m\u001b[0m\u001b[0;34m\u001b[0m\u001b[0m\n\u001b[1;32m     21\u001b[0m \u001b[0mmodel\u001b[0m\u001b[0;34m.\u001b[0m\u001b[0mevaluate\u001b[0m\u001b[0;34m(\u001b[0m\u001b[0mx_test\u001b[0m\u001b[0;34m,\u001b[0m\u001b[0my_test\u001b[0m\u001b[0;34m,\u001b[0m\u001b[0mverbose\u001b[0m\u001b[0;34m=\u001b[0m\u001b[0;36m2\u001b[0m\u001b[0;34m)\u001b[0m\u001b[0;34m\u001b[0m\u001b[0;34m\u001b[0m\u001b[0m\n\u001b[0;32m---> 22\u001b[0;31m \u001b[0mprobability_model\u001b[0m \u001b[0;34m=\u001b[0m \u001b[0mtf\u001b[0m\u001b[0;34m.\u001b[0m\u001b[0mkeras\u001b[0m\u001b[0;34m.\u001b[0m\u001b[0mSequential\u001b[0m\u001b[0;34m(\u001b[0m\u001b[0mmodel\u001b[0m\u001b[0;34m,\u001b[0m\u001b[0mtf\u001b[0m\u001b[0;34m.\u001b[0m\u001b[0mkeras\u001b[0m\u001b[0;34m.\u001b[0m\u001b[0mactivations\u001b[0m\u001b[0;34m.\u001b[0m\u001b[0msoftmax\u001b[0m\u001b[0;34m(\u001b[0m\u001b[0;34m)\u001b[0m\u001b[0;34m)\u001b[0m\u001b[0;34m\u001b[0m\u001b[0;34m\u001b[0m\u001b[0m\n\u001b[0m\u001b[1;32m     23\u001b[0m \u001b[0mprint\u001b[0m\u001b[0;34m(\u001b[0m\u001b[0mprobability_model\u001b[0m\u001b[0;34m(\u001b[0m\u001b[0mx_test\u001b[0m\u001b[0;34m[\u001b[0m\u001b[0;34m:\u001b[0m\u001b[0;36m5\u001b[0m\u001b[0;34m]\u001b[0m\u001b[0;34m)\u001b[0m\u001b[0;34m)\u001b[0m\u001b[0;34m\u001b[0m\u001b[0;34m\u001b[0m\u001b[0m\n",
            "\u001b[0;31mTypeError\u001b[0m: softmax() missing 1 required positional argument: 'x'"
          ]
        }
      ]
    },
    {
      "cell_type": "code",
      "source": [
        "probability_model = tf.keras.Sequential([\n",
        "    model,\n",
        "    tf.keras.layers.Softmax()\n",
        "    ])\n",
        "print(probability_model(x_test[:5]))\n"
      ],
      "metadata": {
        "colab": {
          "base_uri": "https://localhost:8080/"
        },
        "id": "AX80nYtmwEjT",
        "outputId": "ce2d91b3-bea2-4ba5-d6b3-78f90c4e43df"
      },
      "execution_count": 42,
      "outputs": [
        {
          "output_type": "stream",
          "name": "stdout",
          "text": [
            "tf.Tensor(\n",
            "[[2.73204481e-08 3.40485951e-09 1.03747334e-05 3.31782416e-04\n",
            "  1.93439743e-11 1.19640205e-07 2.05233140e-12 9.99656677e-01\n",
            "  1.19447634e-07 9.14270800e-07]\n",
            " [7.31832195e-09 5.61103516e-05 9.99933839e-01 9.26591565e-06\n",
            "  5.51256454e-15 1.91993465e-07 8.86098306e-09 3.89027960e-15\n",
            "  6.15637759e-07 3.77577570e-12]\n",
            " [2.76172585e-07 9.98974085e-01 4.15349132e-05 2.16079843e-06\n",
            "  8.17384062e-05 2.62022240e-06 8.81355572e-06 6.03266759e-04\n",
            "  2.80677836e-04 4.93148764e-06]\n",
            " [9.99959707e-01 9.65412212e-08 1.52792891e-05 1.11900306e-07\n",
            "  6.37748059e-08 1.39781196e-06 1.70074763e-05 4.98805821e-06\n",
            "  1.51728301e-08 1.35421669e-06]\n",
            " [1.45379920e-06 1.44875418e-08 6.50226939e-05 1.16942495e-07\n",
            "  9.98059809e-01 1.35675919e-06 9.99278291e-06 6.80385274e-05\n",
            "  3.36062044e-07 1.79397268e-03]], shape=(5, 10), dtype=float32)\n"
          ]
        }
      ]
    }
  ]
}